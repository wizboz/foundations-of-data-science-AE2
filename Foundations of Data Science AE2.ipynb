{
 "cells": [
  {
   "cell_type": "markdown",
   "metadata": {
    "id": "IobLqTfIehD5"
   },
   "source": [
    "# Sentimental"
   ]
  },
  {
   "cell_type": "markdown",
   "metadata": {
    "id": "UTdI4P5NfaCU"
   },
   "source": [
    "Foundations of Data Science Assessed Exercise 2"
   ]
  },
  {
   "cell_type": "markdown",
   "metadata": {
    "id": "PlDyaWImfjEq",
    "tags": []
   },
   "source": [
    "## Abstract"
   ]
  },
  {
   "cell_type": "markdown",
   "metadata": {
    "id": "n6zMsG45fpaW"
   },
   "source": [
    "This Python Notebook aims to perform Sentiment Analysis on the SST-2 dataset. I compare and contrast the efficiency of both Count Vectorization and TF-IDF Vectorization methods with a variety of traditional machine learning models. After the best model combination has been determined, I use feature selection algorithms to evaluate the importance of feature selection and tune the classifier's hyperparameters in order to improve the models accuracy. Overall, an classification accuracy of 92.99% and 83.72% was achieved on the training and testing data respectively."
   ]
  },
  {
   "cell_type": "markdown",
   "metadata": {
    "id": "Jq3R53WAfuuY"
   },
   "source": [
    "**Keywords:**\n",
    "\n",
    "sentiment analysis, sst-2, sklearn, logistic regression"
   ]
  },
  {
   "cell_type": "markdown",
   "metadata": {
    "id": "Xd3JIy-NeosL",
    "tags": []
   },
   "source": [
    "## Introduction"
   ]
  },
  {
   "cell_type": "markdown",
   "metadata": {
    "id": "0jWTDsV5inak"
   },
   "source": [
    "In this Python Notebook, we will perform Sentiment Analysis via Machine Learning using the Stanford Sentiment Treebank dataset (SST-2). The proposed Machine Learning model will be trained on the `train.tsv` file and tested on the `dev.tsv` from SST-2. \n",
    "\n",
    "Run the following cells to load the dataset. If the respective files are not in the same file directory as this notebook, you may need to edit the below variables to select the appropriate file locations. We can then load the datasets using the Pandas library."
   ]
  },
  {
   "cell_type": "code",
   "execution_count": 1,
   "metadata": {
    "id": "imYDnKcQiqcl",
    "tags": []
   },
   "outputs": [],
   "source": [
    "import pandas as pd\n",
    "\n",
    "# Assigns the filepath to the train_data and test_data variable\n",
    "train_data = 'train.tsv'\n",
    "test_data = 'dev.tsv'\n",
    "\n",
    "# Loads the train.tsv and dev.tsv datasets. As the files are .tsv files it is necessary to specificy sep='t'\n",
    "train = pd.read_csv(train_data, sep='\\t')\n",
    "test = pd.read_csv(test_data, sep='\\t')"
   ]
  },
  {
   "cell_type": "markdown",
   "metadata": {
    "id": "InqClOMCkhgs"
   },
   "source": [
    "When running the following cell, we can see that the data comprises of a sentence column (the input features) and a label column, comprising of 1s and 0s which correspond to either positive or negative sentiment respectively. After vectorizing the data, we can train a binary classification model on the transformed data. "
   ]
  },
  {
   "cell_type": "code",
   "execution_count": 2,
   "metadata": {
    "colab": {
     "base_uri": "https://localhost:8080/",
     "height": 206
    },
    "id": "eREKgQtBklUn",
    "outputId": "2fee354c-65cb-49c6-d0f6-82b5261087e3",
    "tags": []
   },
   "outputs": [
    {
     "data": {
      "text/html": [
       "<div>\n",
       "<style scoped>\n",
       "    .dataframe tbody tr th:only-of-type {\n",
       "        vertical-align: middle;\n",
       "    }\n",
       "\n",
       "    .dataframe tbody tr th {\n",
       "        vertical-align: top;\n",
       "    }\n",
       "\n",
       "    .dataframe thead th {\n",
       "        text-align: right;\n",
       "    }\n",
       "</style>\n",
       "<table border=\"1\" class=\"dataframe\">\n",
       "  <thead>\n",
       "    <tr style=\"text-align: right;\">\n",
       "      <th></th>\n",
       "      <th>sentence</th>\n",
       "      <th>label</th>\n",
       "    </tr>\n",
       "  </thead>\n",
       "  <tbody>\n",
       "    <tr>\n",
       "      <th>0</th>\n",
       "      <td>hide new secretions from the parental units</td>\n",
       "      <td>0</td>\n",
       "    </tr>\n",
       "    <tr>\n",
       "      <th>1</th>\n",
       "      <td>contains no wit , only labored gags</td>\n",
       "      <td>0</td>\n",
       "    </tr>\n",
       "    <tr>\n",
       "      <th>2</th>\n",
       "      <td>that loves its characters and communicates som...</td>\n",
       "      <td>1</td>\n",
       "    </tr>\n",
       "    <tr>\n",
       "      <th>3</th>\n",
       "      <td>remains utterly satisfied to remain the same t...</td>\n",
       "      <td>0</td>\n",
       "    </tr>\n",
       "    <tr>\n",
       "      <th>4</th>\n",
       "      <td>on the worst revenge-of-the-nerds clichés the ...</td>\n",
       "      <td>0</td>\n",
       "    </tr>\n",
       "  </tbody>\n",
       "</table>\n",
       "</div>"
      ],
      "text/plain": [
       "                                            sentence  label\n",
       "0       hide new secretions from the parental units       0\n",
       "1               contains no wit , only labored gags       0\n",
       "2  that loves its characters and communicates som...      1\n",
       "3  remains utterly satisfied to remain the same t...      0\n",
       "4  on the worst revenge-of-the-nerds clichés the ...      0"
      ]
     },
     "execution_count": 2,
     "metadata": {},
     "output_type": "execute_result"
    }
   ],
   "source": [
    "train.head()"
   ]
  },
  {
   "cell_type": "markdown",
   "metadata": {},
   "source": [
    "In the following sections, I analyse two text vectorization methods and four classification algorithms. I then attempt to improve the accuracy of the best performing combination through dimensionality reduction of the input features and hyperparameter tuning of three hyperparameters. Finally, I analyse the performance of my final machine learning model and compare it to existing benchmarks. "
   ]
  },
  {
   "cell_type": "markdown",
   "metadata": {
    "tags": []
   },
   "source": [
    "### Required Modules"
   ]
  },
  {
   "cell_type": "markdown",
   "metadata": {},
   "source": [
    "The below cells import the required Python libraries for this notebook. You may need to install some of the modules if they are not yet installed."
   ]
  },
  {
   "cell_type": "code",
   "execution_count": 3,
   "metadata": {
    "tags": []
   },
   "outputs": [],
   "source": [
    "## Visualisations/Metrics\n",
    "import matplotlib.pyplot as plt\n",
    "import numpy as np\n",
    "import seaborn as sns\n",
    "from sklearn.metrics import confusion_matrix, classification_report, roc_curve, RocCurveDisplay, roc_auc_score\n",
    "from sklearn.preprocessing import PolynomialFeatures\n",
    "from sklearn.linear_model import LinearRegression\n",
    "\n",
    "## Timer/Progress bar\n",
    "from tqdm import tqdm"
   ]
  },
  {
   "cell_type": "code",
   "execution_count": 4,
   "metadata": {
    "tags": []
   },
   "outputs": [],
   "source": [
    "## Classification Methods\n",
    "from sklearn.ensemble import RandomForestClassifier\n",
    "from sklearn.linear_model import LogisticRegression\n",
    "from sklearn.naive_bayes import MultinomialNB\n",
    "from sklearn.tree import DecisionTreeClassifier"
   ]
  },
  {
   "cell_type": "code",
   "execution_count": 5,
   "metadata": {
    "id": "6dKsnbbumJ76",
    "tags": []
   },
   "outputs": [],
   "source": [
    "## Text Vectorization Methods\n",
    "from sklearn.feature_extraction.text import CountVectorizer, TfidfVectorizer\n",
    "\n",
    "## Cross-validation for Model Selection\n",
    "from sklearn.model_selection import KFold, cross_val_score"
   ]
  },
  {
   "cell_type": "code",
   "execution_count": 6,
   "metadata": {
    "id": "vyLPUujLDkGr"
   },
   "outputs": [],
   "source": [
    "## Feature Selection\n",
    "from sklearn.feature_selection import SelectKBest, SelectPercentile, VarianceThreshold, f_classif\n",
    "from sklearn.pipeline import make_pipeline"
   ]
  },
  {
   "cell_type": "code",
   "execution_count": 7,
   "metadata": {
    "id": "wWhKlsJtnv_u",
    "tags": []
   },
   "outputs": [],
   "source": [
    "# Hyperparameter Tuning\n",
    "from sklearn.model_selection import GridSearchCV, StratifiedKFold"
   ]
  },
  {
   "cell_type": "markdown",
   "metadata": {
    "id": "FFIPfSjiuVbH",
    "tags": []
   },
   "source": [
    "### Defined Functions"
   ]
  },
  {
   "cell_type": "markdown",
   "metadata": {},
   "source": [
    "The following functions are used throughout this notebook."
   ]
  },
  {
   "cell_type": "code",
   "execution_count": 8,
   "metadata": {
    "id": "Zc1EpeOyphdJ",
    "tags": []
   },
   "outputs": [],
   "source": [
    "def create_bag(vectorizer, data):  \n",
    "    \"\"\"\n",
    "    Creates a bag-of-words representation of the sentences in the given data using the a text vectorization method of choice.\n",
    "\n",
    "    Parameters:\n",
    "        vectorizer : A vectorizer object that has been fitted on the sentences in SST-2 which is used to transform the input data into the BOW.\n",
    "        data : A pandas dataframe corresponding to the test or training data for SST-2.\n",
    "\n",
    "    Returns:\n",
    "        pandas.DataFrame : A pandas dataframe representing the bag-of-words. The dataframe stores the counts or TF-IDF values\n",
    "            of each token in each sentence.\n",
    "    \"\"\"\n",
    "    \n",
    "    bag = vectorizer.transform(data.sentence)\n",
    "    arr = bag.toarray()\n",
    "\n",
    "    features = vectorizer.get_feature_names_out()\n",
    "    # Called `get_feature_names` in some sklearn versions\n",
    "\n",
    "    bag_df = pd.DataFrame(arr, columns=features)\n",
    "    bag_df.index = data.sentence\n",
    "\n",
    "    return bag_df\n",
    "\n",
    "\n",
    "def evaluate(vectorizer, classifier):\n",
    "    \"\"\"\n",
    "    Evaluates the accuracy of the provided classifier given a train-test split of data using a specified text vectorization method.\n",
    "\n",
    "    Parameters:\n",
    "        vectorizer : A vectorizer object that has been fitted on the sentences in SST-2 which is used to create a BOW to \n",
    "            be used as input for the classifier.\n",
    "        classifier : A machine learning classifier object that will be fitted and trained on the SST-2 training data.\n",
    "\n",
    "    Returns:\n",
    "        tuple: A tuple containing the training accuracy and test accuracy of the trained classifier.\n",
    "    \"\"\"\n",
    "    \n",
    "    train_X = create_bag(vectorizer, train) \n",
    "    train_y = train['label']\n",
    "    \n",
    "    test_X = create_bag(vectorizer, test)\n",
    "    test_y = test['label']\n",
    "        \n",
    "    classifier.fit(X=train_X, y=train_y)\n",
    "        \n",
    "    train_accuracy = classifier.score(train_X, train_y)\n",
    "    test_accuracy = classifier.score(test_X, test_y)\n",
    "    \n",
    "    return (train_accuracy, test_accuracy)"
   ]
  },
  {
   "cell_type": "markdown",
   "metadata": {
    "tags": []
   },
   "source": [
    "## Methods"
   ]
  },
  {
   "cell_type": "markdown",
   "metadata": {
    "id": "pfEbWKvIuc0I",
    "tags": []
   },
   "source": [
    "### Vectorization and Classification Model Selection"
   ]
  },
  {
   "cell_type": "markdown",
   "metadata": {},
   "source": [
    "This section involves a comparison of different text vectorization methods with different machine learning models. "
   ]
  },
  {
   "cell_type": "markdown",
   "metadata": {},
   "source": [
    "The text vectorization methods, Count Vectorizer and TF-IDF Vectorizer, are instantiated and fitted to the corpus of text provided in the 'Sentence' column of the training data. Then, the machine learning models are instantiated. I have attempted to choose a variety of different classification algorithms. "
   ]
  },
  {
   "cell_type": "code",
   "execution_count": 9,
   "metadata": {
    "id": "gx2IJPOHp4G6",
    "tags": []
   },
   "outputs": [],
   "source": [
    "vectorizers = [CountVectorizer(min_df=2).fit(train.sentence), \n",
    "               TfidfVectorizer(min_df=2).fit(train.sentence)]         "
   ]
  },
  {
   "cell_type": "code",
   "execution_count": 10,
   "metadata": {
    "tags": []
   },
   "outputs": [],
   "source": [
    "classifiers = [MultinomialNB(),\n",
    "               LogisticRegression(max_iter=10000), \n",
    "               DecisionTreeClassifier(max_depth=12),\n",
    "               RandomForestClassifier(max_depth=5)]"
   ]
  },
  {
   "cell_type": "markdown",
   "metadata": {},
   "source": [
    "Next I iterate through both the `vectorizers` and `classifiers` lists. Within this evaluation process, I use each vectorizer to create a bag of words from the training data and then use this to train each classifier. Once the model is fitted, the train and test accuracy is calculated and added to a list of scores.\n",
    "\n",
    "The `scores` list is then converted into a pandas dataframe."
   ]
  },
  {
   "cell_type": "code",
   "execution_count": 11,
   "metadata": {
    "id": "B_FLSb4WM-nV",
    "tags": []
   },
   "outputs": [
    {
     "name": "stderr",
     "output_type": "stream",
     "text": [
      "100%|████████████████████████████████████████████████████████████| 4/4 [02:48<00:00, 42.10s/it]\n",
      "100%|████████████████████████████████████████████████████████████| 4/4 [01:47<00:00, 26.77s/it]\n"
     ]
    }
   ],
   "source": [
    "scores = []\n",
    "\n",
    "for vectorizer in vectorizers:\n",
    "    for classifier in tqdm(classifiers):\n",
    "        train_accuracy, test_accuracy = evaluate(vectorizer, classifier)\n",
    "        scores.append((str(type(vectorizer).__name__), str(type(classifier).__name__), train_accuracy, test_accuracy))"
   ]
  },
  {
   "cell_type": "code",
   "execution_count": 12,
   "metadata": {
    "colab": {
     "base_uri": "https://localhost:8080/",
     "height": 300
    },
    "id": "-nbSSfv_MUJh",
    "outputId": "d6fe0c66-6176-4079-9cbd-8f17be1b9c37",
    "tags": []
   },
   "outputs": [
    {
     "data": {
      "text/html": [
       "<div>\n",
       "<style scoped>\n",
       "    .dataframe tbody tr th:only-of-type {\n",
       "        vertical-align: middle;\n",
       "    }\n",
       "\n",
       "    .dataframe tbody tr th {\n",
       "        vertical-align: top;\n",
       "    }\n",
       "\n",
       "    .dataframe thead th {\n",
       "        text-align: right;\n",
       "    }\n",
       "</style>\n",
       "<table border=\"1\" class=\"dataframe\">\n",
       "  <thead>\n",
       "    <tr style=\"text-align: right;\">\n",
       "      <th></th>\n",
       "      <th>Vectorizer</th>\n",
       "      <th>Classifier</th>\n",
       "      <th>Train Accuracy</th>\n",
       "      <th>Test Accuracy</th>\n",
       "    </tr>\n",
       "  </thead>\n",
       "  <tbody>\n",
       "    <tr>\n",
       "      <th>0</th>\n",
       "      <td>CountVectorizer</td>\n",
       "      <td>MultinomialNB</td>\n",
       "      <td>0.894920</td>\n",
       "      <td>0.806193</td>\n",
       "    </tr>\n",
       "    <tr>\n",
       "      <th>1</th>\n",
       "      <td>CountVectorizer</td>\n",
       "      <td>LogisticRegression</td>\n",
       "      <td>0.937772</td>\n",
       "      <td>0.818807</td>\n",
       "    </tr>\n",
       "    <tr>\n",
       "      <th>2</th>\n",
       "      <td>CountVectorizer</td>\n",
       "      <td>DecisionTreeClassifier</td>\n",
       "      <td>0.627374</td>\n",
       "      <td>0.610092</td>\n",
       "    </tr>\n",
       "    <tr>\n",
       "      <th>3</th>\n",
       "      <td>CountVectorizer</td>\n",
       "      <td>RandomForestClassifier</td>\n",
       "      <td>0.559103</td>\n",
       "      <td>0.511468</td>\n",
       "    </tr>\n",
       "    <tr>\n",
       "      <th>4</th>\n",
       "      <td>TfidfVectorizer</td>\n",
       "      <td>MultinomialNB</td>\n",
       "      <td>0.905656</td>\n",
       "      <td>0.800459</td>\n",
       "    </tr>\n",
       "    <tr>\n",
       "      <th>5</th>\n",
       "      <td>TfidfVectorizer</td>\n",
       "      <td>LogisticRegression</td>\n",
       "      <td>0.922864</td>\n",
       "      <td>0.825688</td>\n",
       "    </tr>\n",
       "    <tr>\n",
       "      <th>6</th>\n",
       "      <td>TfidfVectorizer</td>\n",
       "      <td>DecisionTreeClassifier</td>\n",
       "      <td>0.627864</td>\n",
       "      <td>0.622706</td>\n",
       "    </tr>\n",
       "    <tr>\n",
       "      <th>7</th>\n",
       "      <td>TfidfVectorizer</td>\n",
       "      <td>RandomForestClassifier</td>\n",
       "      <td>0.559726</td>\n",
       "      <td>0.512615</td>\n",
       "    </tr>\n",
       "  </tbody>\n",
       "</table>\n",
       "</div>"
      ],
      "text/plain": [
       "        Vectorizer              Classifier  Train Accuracy  Test Accuracy\n",
       "0  CountVectorizer           MultinomialNB        0.894920       0.806193\n",
       "1  CountVectorizer      LogisticRegression        0.937772       0.818807\n",
       "2  CountVectorizer  DecisionTreeClassifier        0.627374       0.610092\n",
       "3  CountVectorizer  RandomForestClassifier        0.559103       0.511468\n",
       "4  TfidfVectorizer           MultinomialNB        0.905656       0.800459\n",
       "5  TfidfVectorizer      LogisticRegression        0.922864       0.825688\n",
       "6  TfidfVectorizer  DecisionTreeClassifier        0.627864       0.622706\n",
       "7  TfidfVectorizer  RandomForestClassifier        0.559726       0.512615"
      ]
     },
     "execution_count": 12,
     "metadata": {},
     "output_type": "execute_result"
    }
   ],
   "source": [
    "scores_df = pd.DataFrame(scores, columns=['Vectorizer', 'Classifier', 'Train Accuracy', 'Test Accuracy'])\n",
    "scores_df"
   ]
  },
  {
   "cell_type": "markdown",
   "metadata": {
    "id": "MgOQR3xfZVN6"
   },
   "source": [
    "From the dataframe, we can see that Logistic Regression performed the best, followed by Multinomial Naive Bayes and that the Count Vectorizer achieves higher accuracy than the TF-IDF Vectorizer. Below, I use `matplotlib` to visualise the data as bar charts in order to compare and contrast the effectiveness of each combination of vectorizer and classifier for both the training and testing data."
   ]
  },
  {
   "cell_type": "code",
   "execution_count": 13,
   "metadata": {
    "colab": {
     "base_uri": "https://localhost:8080/",
     "height": 703
    },
    "id": "q1XOcPDKD-JP",
    "outputId": "38a13676-eec0-4118-9581-c18eb31db834",
    "tags": []
   },
   "outputs": [
    {
     "data": {
      "text/plain": [
       "Text(0, 0.5, 'Accuracy Score')"
      ]
     },
     "execution_count": 13,
     "metadata": {},
     "output_type": "execute_result"
    },
    {
     "data": {
      "image/png": "[encoded data removed]",
      "text/plain": [
       "<Figure size 1200x500 with 2 Axes>"
      ]
     },
     "metadata": {},
     "output_type": "display_data"
    }
   ],
   "source": [
    "# Two side by side plots\n",
    "fig, (ax1, ax2) = plt.subplots(1, 2, figsize=(12, 5), sharey=True, sharex=True)\n",
    "\n",
    "\n",
    "ax1.set_title('Model Accuracies for Training Data')\n",
    "# In order to group together the results by classifier, we have to manually specify the locations on the x-axis and then override the x-labels\n",
    "X_axis = np.arange(len(scores_df['Classifier'])/2)\n",
    "# Select and plot the two types of vectorizer separately with appropriate x offset.\n",
    "ax1.bar(X_axis - 0.2, scores_df[scores_df[\"Vectorizer\"] == \"CountVectorizer\"]['Train Accuracy'], width =  0.4, label='Count Vectorizer')\n",
    "ax1.bar(X_axis + 0.2, scores_df[scores_df[\"Vectorizer\"] == \"TfidfVectorizer\"]['Train Accuracy'], width =  0.4, color='lightgreen', label='TF-IDF Vectorizer')\n",
    "# Override x-labels\n",
    "ax1.set_xticks(X_axis, scores_df[scores_df[\"Vectorizer\"] == \"CountVectorizer\"]['Classifier'], rotation = 90)\n",
    "ax1.set_ylim([0.5, 1])\n",
    "\n",
    "\n",
    "ax2.set_title('Model Accuracies for Testing Data')\n",
    "# Same as above\n",
    "X_axis = np.arange(len(scores_df['Classifier'])/2)\n",
    "ax2.bar(X_axis - 0.2, scores_df[scores_df[\"Vectorizer\"] == \"CountVectorizer\"]['Test Accuracy'], width =  0.4, label='Count Vectorizer')\n",
    "ax2.bar(X_axis + 0.2, scores_df[scores_df[\"Vectorizer\"] == \"TfidfVectorizer\"]['Test Accuracy'], width =  0.4, color='lightgreen', label='TF-IDF Vectorizer')\n",
    "# Override x-labels\n",
    "ax2.set_xticks(X_axis, scores_df[scores_df[\"Vectorizer\"] == \"CountVectorizer\"]['Classifier'], rotation = 90)\n",
    "ax2.set_ylim([0.5, 1])\n",
    "\n",
    "\n",
    "# Displays the Legend. Since the legend is the same for both subplots, I have chosen to display the legend only on ax2\n",
    "ax2.legend()\n",
    "\n",
    "ax1.set_ylabel('Accuracy Score')"
   ]
  },
  {
   "cell_type": "markdown",
   "metadata": {
    "id": "J6XjHKpOlCC1"
   },
   "source": [
    "Multinomial NB and Logistic Regression both performed well with over 80% accuracy on the test data, scoring much higher then the other two classifiers. Logistic Regression achieves the highest train and test accuracy, with train and test accuracies of 92.29% and 82.57%. \n",
    "\n",
    "\n",
    "Despite Count Vectorizer performing well on training data, the highest performing combination for the test dataset is Logistic Regression with TF-IDF Vectorizer. Thus, from now on TF-IDF Vectorizer will be our text vectorization method of choice and Logistic Regression will be our machine learning model. "
   ]
  },
  {
   "cell_type": "markdown",
   "metadata": {
    "id": "f0oA7UpBnxuw",
    "tags": []
   },
   "source": [
    "### Hyper-parameter Tuning and Feature Selection"
   ]
  },
  {
   "cell_type": "markdown",
   "metadata": {},
   "source": [
    "In the following sub-section I attempt to improve our baseline 82.57% accuraccy for Logistic Regression using TF-IDF Vectorizer through feature selection and hyper-parameter tuning methods, including feature dimensionality reduction via K-Best, GridSearchCV and manual tuning."
   ]
  },
  {
   "cell_type": "markdown",
   "metadata": {
    "id": "4xyKtRwkDhTh",
    "tags": []
   },
   "source": [
    "#### Feature Selection"
   ]
  },
  {
   "cell_type": "markdown",
   "metadata": {},
   "source": [
    "First, I create a Logistic Regression model object and TF-IDF Vectorizer model object. `max_iter=10000` has been specified in order to avoid convergence issues with the Logistic Regression's default solver. At this intial stage, `min_df=2` has been chosen for TF-IDF Vectorizer so that words that only appear in one sentence are eliminated. This can help reduce memory usage whilst working with the large dataset, and helped speed up evaluation times during the model selection phase. \n",
    "\n",
    "\n",
    "Then I assign the feature and input variables which are required to fit our classifier. The `_X` variables are bag-of-words using TF-IDF vectorization and the `_y` variables are the respective sentiment labels for each sentence. "
   ]
  },
  {
   "cell_type": "code",
   "execution_count": 14,
   "metadata": {},
   "outputs": [],
   "source": [
    "logistic_regression = LogisticRegression(max_iter=10000)\n",
    "\n",
    "vectorizer = TfidfVectorizer(min_df=2)"
   ]
  },
  {
   "cell_type": "code",
   "execution_count": 15,
   "metadata": {},
   "outputs": [],
   "source": [
    "train_X = create_bag(vectorizer.fit(train.sentence), train)\n",
    "train_y = train['label']\n",
    "\n",
    "test_X = create_bag(vectorizer.fit(train.sentence), test)\n",
    "test_y = test['label']"
   ]
  },
  {
   "cell_type": "markdown",
   "metadata": {},
   "source": [
    "For the feature selection process, I evaluate 10 possible reduced dimension sizes between 9,000 and 13,331 (the maximum number of features and the current number of features without any feature reduction). \n",
    "\n",
    "The top k features according to their F-Score are extracted from the data (where k is the specified number between 9,000 and 13,331) as well as the features with zero variance are removed. The extractor object is then fitted to the training and testing data, providing new feature sets for both. The classification model is then fitted to the training data with feature selection and the test accuracy is recorded in `feature_scores`. This is repeated for each number in `features`. `feature_scores` is used to create a dataframe of scores which can be viewed below. This data is then visualised as a scatter plot."
   ]
  },
  {
   "cell_type": "code",
   "execution_count": 16,
   "metadata": {
    "id": "kykB_QnrDdF3",
    "tags": []
   },
   "outputs": [
    {
     "name": "stderr",
     "output_type": "stream",
     "text": [
      "100%|██████████████████████████████████████████████████████████| 10/10 [09:21<00:00, 56.11s/it]\n"
     ]
    }
   ],
   "source": [
    "features = np.linspace(9000, 13331, 10)\n",
    "feature_scores = []\n",
    "\n",
    "for num in tqdm(features):\n",
    "    extractor = make_pipeline(VarianceThreshold(threshold=0),\n",
    "                              SelectKBest(score_func=f_classif, k=int(num)))\n",
    "\n",
    "    extractor.fit(train_X, train_y)\n",
    "\n",
    "    trainP = extractor.transform(train_X)\n",
    "    testP = extractor.transform(test_X)\n",
    "    \n",
    "    classifier = logistic_regression.fit(X=trainP, y=train_y)\n",
    "    accuracy = classifier.score(testP, test_y)\n",
    "\n",
    "    feature_scores.append((int(num), accuracy))"
   ]
  },
  {
   "cell_type": "code",
   "execution_count": 17,
   "metadata": {
    "tags": []
   },
   "outputs": [
    {
     "data": {
      "text/html": [
       "<div>\n",
       "<style scoped>\n",
       "    .dataframe tbody tr th:only-of-type {\n",
       "        vertical-align: middle;\n",
       "    }\n",
       "\n",
       "    .dataframe tbody tr th {\n",
       "        vertical-align: top;\n",
       "    }\n",
       "\n",
       "    .dataframe thead th {\n",
       "        text-align: right;\n",
       "    }\n",
       "</style>\n",
       "<table border=\"1\" class=\"dataframe\">\n",
       "  <thead>\n",
       "    <tr style=\"text-align: right;\">\n",
       "      <th></th>\n",
       "      <th>Number of Features</th>\n",
       "      <th>Test Accuracy</th>\n",
       "    </tr>\n",
       "  </thead>\n",
       "  <tbody>\n",
       "    <tr>\n",
       "      <th>0</th>\n",
       "      <td>9000</td>\n",
       "      <td>0.823394</td>\n",
       "    </tr>\n",
       "    <tr>\n",
       "      <th>1</th>\n",
       "      <td>9481</td>\n",
       "      <td>0.823394</td>\n",
       "    </tr>\n",
       "    <tr>\n",
       "      <th>2</th>\n",
       "      <td>9962</td>\n",
       "      <td>0.824541</td>\n",
       "    </tr>\n",
       "    <tr>\n",
       "      <th>3</th>\n",
       "      <td>10443</td>\n",
       "      <td>0.825688</td>\n",
       "    </tr>\n",
       "    <tr>\n",
       "      <th>4</th>\n",
       "      <td>10924</td>\n",
       "      <td>0.822248</td>\n",
       "    </tr>\n",
       "    <tr>\n",
       "      <th>5</th>\n",
       "      <td>11406</td>\n",
       "      <td>0.824541</td>\n",
       "    </tr>\n",
       "    <tr>\n",
       "      <th>6</th>\n",
       "      <td>11887</td>\n",
       "      <td>0.823394</td>\n",
       "    </tr>\n",
       "    <tr>\n",
       "      <th>7</th>\n",
       "      <td>12368</td>\n",
       "      <td>0.823394</td>\n",
       "    </tr>\n",
       "    <tr>\n",
       "      <th>8</th>\n",
       "      <td>12849</td>\n",
       "      <td>0.824541</td>\n",
       "    </tr>\n",
       "    <tr>\n",
       "      <th>9</th>\n",
       "      <td>13331</td>\n",
       "      <td>0.825688</td>\n",
       "    </tr>\n",
       "  </tbody>\n",
       "</table>\n",
       "</div>"
      ],
      "text/plain": [
       "   Number of Features  Test Accuracy\n",
       "0                9000       0.823394\n",
       "1                9481       0.823394\n",
       "2                9962       0.824541\n",
       "3               10443       0.825688\n",
       "4               10924       0.822248\n",
       "5               11406       0.824541\n",
       "6               11887       0.823394\n",
       "7               12368       0.823394\n",
       "8               12849       0.824541\n",
       "9               13331       0.825688"
      ]
     },
     "execution_count": 17,
     "metadata": {},
     "output_type": "execute_result"
    }
   ],
   "source": [
    "feature_scores_df = pd.DataFrame(feature_scores, columns=['Number of Features', 'Test Accuracy'])\n",
    "feature_scores_df = feature_scores_df.sort_values(by='Number of Features')\n",
    "feature_scores_df"
   ]
  },
  {
   "cell_type": "markdown",
   "metadata": {},
   "source": [
    "A polynomial regression is used to give a general idea of the trend in the data. This is for visualisation purposes only and ought not be used to predict the best number of features due to the limited training data points. However, this could be a worthwhile method if much more data was generated during the previous cell. "
   ]
  },
  {
   "cell_type": "code",
   "execution_count": 18,
   "metadata": {
    "tags": []
   },
   "outputs": [
    {
     "data": {
      "image/png": "[encoded data removed]",
      "text/plain": [
       "<Figure size 1000x500 with 1 Axes>"
      ]
     },
     "metadata": {},
     "output_type": "display_data"
    }
   ],
   "source": [
    "y = feature_scores_df['Test Accuracy'].values\n",
    "x = feature_scores_df['Number of Features'].values\n",
    "\n",
    "# Specifies the degree of the polynomial regression (used to give a general idea of the trend of the data)\n",
    "poly = PolynomialFeatures(degree=4, include_bias=False)\n",
    "poly_features = poly.fit_transform(x.reshape(-1, 1))\n",
    "# Creates a polynomial regression model\n",
    "poly_reg_model = LinearRegression()\n",
    "poly_reg_model.fit(poly_features, y)\n",
    "y_predicted = poly_reg_model.predict(poly_features)\n",
    "\n",
    "# Depicts the polynomial graph\n",
    "plt.figure(figsize=(10,5))\n",
    "plt.scatter(x,y, c='blue', label='Actual Value')\n",
    "plt.plot(x, y_predicted, c=\"lightgreen\", label='Predicted Value')\n",
    "plt.title('Polynomial Regression of Test Accuracy by Top Number of Features')\n",
    "plt.xlabel(\"Number of Features According to best F-Score\")\n",
    "plt.ylabel('Test Accuracy Score')\n",
    "plt.legend()\n",
    "plt.show()"
   ]
  },
  {
   "cell_type": "code",
   "execution_count": 20,
   "metadata": {
    "tags": []
   },
   "outputs": [
    {
     "data": {
      "text/plain": [
       "10443"
      ]
     },
     "execution_count": 20,
     "metadata": {},
     "output_type": "execute_result"
    }
   ],
   "source": [
    "# Select the reduced dimension size with the highest test accuracy in the dataframe\n",
    "best_features = feature_scores_df['Test Accuracy'].argmax()\n",
    "best_num = feature_scores_df['Number of Features'].iloc[best_features]\n",
    "best_num"
   ]
  },
  {
   "cell_type": "markdown",
   "metadata": {},
   "source": [
    "The number of features that achieved the highest test accuracy is 10,443. But this is the same acuracy as with the full number of features (82.57%). Whilst feature selection adds a step to the process, reducing the number of features and thus the size of the dataset has merit as it makes the sentiment analysis task less memory intensive and speeds up processing times. Thus, from this point on I opt to select only the top 10,443 features."
   ]
  },
  {
   "cell_type": "code",
   "execution_count": 21,
   "metadata": {
    "tags": []
   },
   "outputs": [],
   "source": [
    "# Creates the new feature set\n",
    "extractor = make_pipeline(VarianceThreshold(threshold=0),\n",
    "                          SelectKBest(score_func=f_classif, k=int(best_num)))\n",
    "\n",
    "extractor.fit(train_X, train_y)\n",
    "\n",
    "trainP = extractor.transform(train_X)\n",
    "testP = extractor.transform(test_X)"
   ]
  },
  {
   "cell_type": "markdown",
   "metadata": {
    "id": "NcmECdc2EHK-",
    "tags": []
   },
   "source": [
    "#### Hyper-parameter Tuning"
   ]
  },
  {
   "cell_type": "markdown",
   "metadata": {
    "id": "ObhzcQ1NhHD2"
   },
   "source": [
    "We can further improve the accuracy by tuning the hyper-parameters. "
   ]
  },
  {
   "cell_type": "code",
   "execution_count": 22,
   "metadata": {
    "colab": {
     "base_uri": "https://localhost:8080/"
    },
    "id": "0_2qJzE7mBNW",
    "outputId": "f515e111-b1e4-4d53-a238-4d3cd366196f"
   },
   "outputs": [
    {
     "name": "stdout",
     "output_type": "stream",
     "text": [
      "The hyper-parameters for Logistic Regression are:\n",
      "\n",
      "... C                        : 1.0\n",
      "... class_weight             : None\n",
      "... dual                     : False\n",
      "... fit_intercept            : True\n",
      "... intercept_scaling        : 1\n",
      "... l1_ratio                 : None\n",
      "... max_iter                 : 10000\n",
      "... multi_class              : auto\n",
      "... n_jobs                   : None\n",
      "... penalty                  : l2\n",
      "... random_state             : None\n",
      "... solver                   : lbfgs\n",
      "... tol                      : 0.0001\n",
      "... verbose                  : 0\n",
      "... warm_start               : False\n",
      "\n"
     ]
    }
   ],
   "source": [
    "print(f'The hyper-parameters for Logistic Regression are:\\n')\n",
    "params = logistic_regression.get_params()\n",
    "for param, default in params.items():\n",
    "    print(f'... {param:25s}: {default}')\n",
    "print()"
   ]
  },
  {
   "cell_type": "markdown",
   "metadata": {
    "tags": []
   },
   "source": [
    "##### **Solver**:"
   ]
  },
  {
   "cell_type": "markdown",
   "metadata": {},
   "source": [
    "Firstly, I will compare and contrast the efficiency of each solver for Logistic Regression. Grid Search is used to search over the solver values. Whilst Grid Search is ideal for search over multiple hyperparameters, this is both a computationally and memory expensive technique unless working with very small datasets. This technique uses 5-fold cross-validation to split the data. Since our data is already split into `train.tsv` and `dev.tsv` and grid search is limited to the training data, it is important to bear in mind that the results may not translate fully when applied to our train-test split. For this reason, and due to memory contraints, K-Fold cross-validation has not been used for model selection or for further hyperparameter tuning.\n",
    "\n",
    "The classifier trained with the best parameters from the Grid Search is then fitted to data (with feature selection from the previous experiment), before calculating the respective accuracy scores. The results of the Grid Search can be seen below."
   ]
  },
  {
   "cell_type": "code",
   "execution_count": 25,
   "metadata": {
    "id": "YLF1zOAnjW2V",
    "tags": []
   },
   "outputs": [],
   "source": [
    "grid = {\n",
    "    'solver': ['newton-cg', 'saga', 'sag', 'lbfgs', 'liblinear'],\n",
    "    'max_iter': [10000],\n",
    "}\n",
    "\n",
    "# Stratified k-fold ensures that the classes are balanced in each fold\n",
    "cv = StratifiedKFold(n_splits=5)\n",
    "gs = GridSearchCV(LogisticRegression(), grid, n_jobs=1, cv=cv)\n",
    "# n_jobs can be set to speed up search, however this uses more memory\n",
    "\n",
    "gs.fit(X=trainP, y=train['label']);"
   ]
  },
  {
   "cell_type": "code",
   "execution_count": 26,
   "metadata": {
    "id": "qU_-O0Ajpehr"
   },
   "outputs": [
    {
     "name": "stdout",
     "output_type": "stream",
     "text": [
      "The best parameters for Logistic Regression are {'max_iter': 10000, 'solver': 'liblinear'}, achieving 89.01% classification accuracy.\n",
      "Best training accuracy is 89.01%\n",
      "Test accuracy is 82.57%\n"
     ]
    }
   ],
   "source": [
    "print(f'The best parameters for Logistic Regression are {gs.best_params_}, achieving {gs.best_score_:.2%} classification accuracy.')\n",
    "\n",
    "print(f'Best training accuracy is {gs.best_score_:.2%}')\n",
    "\n",
    "print(f'Test accuracy is {gs.score(testP, test_y):.2%}')"
   ]
  },
  {
   "cell_type": "markdown",
   "metadata": {},
   "source": [
    "According to the GS, the best solver is 'liblinear'. However, there is no improvement in accuracy over 'lbfgs', and hence, solver does not seem to play a major part in the classification process in this case. I have chosen to use 'liblinear' over 'lbfgs' since it avoids the previously mentioned convergence issue and allows me to compare and contrast 'l1' penalty against 'l2' penalty, unlike 'lbfgs' that only supports 'l2' penalty. Liblinear is also less computationally expensive than other solvers such as 'newton-cg' or 'saga'."
   ]
  },
  {
   "cell_type": "markdown",
   "metadata": {
    "tags": []
   },
   "source": [
    "##### **C Value and Penalty**:"
   ]
  },
  {
   "cell_type": "markdown",
   "metadata": {},
   "source": [
    "Secondly, I experiment with a range of C values with both 'l1' and 'l2' penalties. "
   ]
  },
  {
   "cell_type": "markdown",
   "metadata": {},
   "source": [
    "As previously mentioned, grid search cross-validation is a memory intensive technique that is ideal for small amounts of data. To select the hyper-parameter values more accurately I create my own grid search that evaluates the accuracy for each value for my train, test split. I do this via for-loops, and consider C values between 0.1 and 15 with both 'l1' and '12' penalty, and store this data in the `hp_scores_df` dataframe. This approach proved to be faster and allowed me to evaluate many more values than with using `GridSearchCV`. It also enables me to store all the data points and plot these on a scatter chart."
   ]
  },
  {
   "cell_type": "code",
   "execution_count": 27,
   "metadata": {
    "tags": []
   },
   "outputs": [
    {
     "name": "stderr",
     "output_type": "stream",
     "text": [
      "100%|██████████████████████████████████████████████████████████| 50/50 [02:49<00:00,  3.40s/it]\n",
      "100%|██████████████████████████████████████████████████████████| 50/50 [02:56<00:00,  3.54s/it]\n"
     ]
    }
   ],
   "source": [
    "hp_scores=[]\n",
    "\n",
    "solver = 'liblinear'\n",
    "# Generates 50 evenly spaced values between 0.1 and 15.\n",
    "C_values = np.linspace(0.1, 15, 50)\n",
    "penalties = ['l1', 'l2']\n",
    "\n",
    "# For each combination of parameters, fit the classifier with the parameters and record the test accuracy.\n",
    "for penalty in penalties:\n",
    "    for C in tqdm(C_values):\n",
    "        logistic_regression = LogisticRegression(solver=solver, C=C, penalty=penalty, max_iter=10000)\n",
    "        classifier = logistic_regression.fit(X=trainP, y=train_y)\n",
    "        test_accuracy = classifier.score(testP, test_y)\n",
    "        hp_scores.append((C, penalty, test_accuracy))"
   ]
  },
  {
   "cell_type": "code",
   "execution_count": 30,
   "metadata": {
    "tags": []
   },
   "outputs": [],
   "source": [
    "hp_scores_df = pd.DataFrame(hp_scores, columns=['C Value', 'Penalty', 'Test Accuracy'])\n",
    "hp_scores_df = hp_scores_df.sort_values(by='C Value')"
   ]
  },
  {
   "cell_type": "code",
   "execution_count": 31,
   "metadata": {
    "tags": []
   },
   "outputs": [
    {
     "data": {
      "image/png": "[encoded data removed]",
      "text/plain": [
       "<Figure size 1000x500 with 1 Axes>"
      ]
     },
     "metadata": {},
     "output_type": "display_data"
    }
   ],
   "source": [
    "# Separately select and plot the results for each penalty type.\n",
    "l1_y = hp_scores_df[hp_scores_df[\"Penalty\"] == \"l1\"]['Test Accuracy'].values\n",
    "l1_x = hp_scores_df[hp_scores_df[\"Penalty\"] == \"l1\"]['C Value'].values\n",
    "\n",
    "l2_y = hp_scores_df[hp_scores_df[\"Penalty\"] == \"l2\"]['Test Accuracy'].values\n",
    "l2_x = hp_scores_df[hp_scores_df[\"Penalty\"] == \"l2\"]['C Value'].values\n",
    "\n",
    "plt.figure(figsize=(10,5))\n",
    "plt.scatter(l1_x,l1_y, c='teal', label='penalty: l1')\n",
    "plt.scatter(l2_x,l2_y, c='crimson', label='penalty: l2')\n",
    "plt.xlim(0, 15.1)\n",
    "plt.ylim(0.79, 0.84)\n",
    "plt.legend()\n",
    "plt.title('Test Accuracy by C Value for Logistic Regression Classifier')\n",
    "plt.xlabel(\"Value for 'C' Hyper-parameter\")\n",
    "plt.ylabel('Test Accuracy Score')\n",
    "plt.show()"
   ]
  },
  {
   "cell_type": "markdown",
   "metadata": {},
   "source": [
    "From the visualisation we can see that 'l2' penalty produces the higher test accuracy for all C values used. Moreover, the optimal range for C value seems to be between 2 and 6.5. Hence, I further test 20 more C values in this range to ensure the best C value between 2 and 6.5 is discovered, and append these data points to the original `hp_scores` list. At this stage, I only test C values with 'l2' penalty. I then generate a new expanded data frame and visualise the accuracies per each C value on a scatter graph, with a fourth degree polynomial to map the trend in the data. "
   ]
  },
  {
   "cell_type": "code",
   "execution_count": 32,
   "metadata": {
    "tags": []
   },
   "outputs": [
    {
     "name": "stderr",
     "output_type": "stream",
     "text": [
      "100%|██████████████████████████████████████████████████████████| 20/20 [01:08<00:00,  3.45s/it]\n"
     ]
    },
    {
     "data": {
      "text/html": [
       "<div>\n",
       "<style scoped>\n",
       "    .dataframe tbody tr th:only-of-type {\n",
       "        vertical-align: middle;\n",
       "    }\n",
       "\n",
       "    .dataframe tbody tr th {\n",
       "        vertical-align: top;\n",
       "    }\n",
       "\n",
       "    .dataframe thead th {\n",
       "        text-align: right;\n",
       "    }\n",
       "</style>\n",
       "<table border=\"1\" class=\"dataframe\">\n",
       "  <thead>\n",
       "    <tr style=\"text-align: right;\">\n",
       "      <th></th>\n",
       "      <th>C Value</th>\n",
       "      <th>Penalty</th>\n",
       "      <th>Test Accuracy</th>\n",
       "    </tr>\n",
       "  </thead>\n",
       "  <tbody>\n",
       "    <tr>\n",
       "      <th>0</th>\n",
       "      <td>0.100000</td>\n",
       "      <td>l1</td>\n",
       "      <td>0.735092</td>\n",
       "    </tr>\n",
       "    <tr>\n",
       "      <th>50</th>\n",
       "      <td>0.100000</td>\n",
       "      <td>l2</td>\n",
       "      <td>0.794725</td>\n",
       "    </tr>\n",
       "    <tr>\n",
       "      <th>51</th>\n",
       "      <td>0.404082</td>\n",
       "      <td>l2</td>\n",
       "      <td>0.818807</td>\n",
       "    </tr>\n",
       "    <tr>\n",
       "      <th>1</th>\n",
       "      <td>0.404082</td>\n",
       "      <td>l1</td>\n",
       "      <td>0.790138</td>\n",
       "    </tr>\n",
       "    <tr>\n",
       "      <th>2</th>\n",
       "      <td>0.708163</td>\n",
       "      <td>l1</td>\n",
       "      <td>0.807339</td>\n",
       "    </tr>\n",
       "    <tr>\n",
       "      <th>...</th>\n",
       "      <td>...</td>\n",
       "      <td>...</td>\n",
       "      <td>...</td>\n",
       "    </tr>\n",
       "    <tr>\n",
       "      <th>47</th>\n",
       "      <td>14.391837</td>\n",
       "      <td>l1</td>\n",
       "      <td>0.815367</td>\n",
       "    </tr>\n",
       "    <tr>\n",
       "      <th>48</th>\n",
       "      <td>14.695918</td>\n",
       "      <td>l1</td>\n",
       "      <td>0.817661</td>\n",
       "    </tr>\n",
       "    <tr>\n",
       "      <th>98</th>\n",
       "      <td>14.695918</td>\n",
       "      <td>l2</td>\n",
       "      <td>0.818807</td>\n",
       "    </tr>\n",
       "    <tr>\n",
       "      <th>99</th>\n",
       "      <td>15.000000</td>\n",
       "      <td>l2</td>\n",
       "      <td>0.818807</td>\n",
       "    </tr>\n",
       "    <tr>\n",
       "      <th>49</th>\n",
       "      <td>15.000000</td>\n",
       "      <td>l1</td>\n",
       "      <td>0.815367</td>\n",
       "    </tr>\n",
       "  </tbody>\n",
       "</table>\n",
       "<p>120 rows × 3 columns</p>\n",
       "</div>"
      ],
      "text/plain": [
       "      C Value Penalty  Test Accuracy\n",
       "0    0.100000      l1       0.735092\n",
       "50   0.100000      l2       0.794725\n",
       "51   0.404082      l2       0.818807\n",
       "1    0.404082      l1       0.790138\n",
       "2    0.708163      l1       0.807339\n",
       "..        ...     ...            ...\n",
       "47  14.391837      l1       0.815367\n",
       "48  14.695918      l1       0.817661\n",
       "98  14.695918      l2       0.818807\n",
       "99  15.000000      l2       0.818807\n",
       "49  15.000000      l1       0.815367\n",
       "\n",
       "[120 rows x 3 columns]"
      ]
     },
     "execution_count": 32,
     "metadata": {},
     "output_type": "execute_result"
    }
   ],
   "source": [
    "C_values = np.linspace(2, 6.5, 20)\n",
    "\n",
    "for C in tqdm(C_values):\n",
    "    # For each C-value, fit the classifier and record test accuracy\n",
    "    logistic_regression = LogisticRegression(solver=solver, C=C, penalty='l2', max_iter=10000)\n",
    "    classifier = logistic_regression.fit(X=trainP, y=train_y)        \n",
    "    test_accuracy = classifier.score(testP, test_y)\n",
    "    hp_scores.append((C, penalty, test_accuracy))\n",
    "    \n",
    "    \n",
    "more_hp_scores_df = pd.DataFrame(hp_scores, columns=['C Value', 'Penalty', 'Test Accuracy'])\n",
    "more_hp_scores_df = more_hp_scores_df.sort_values(by='C Value')\n",
    "more_hp_scores_df"
   ]
  },
  {
   "cell_type": "code",
   "execution_count": 33,
   "metadata": {
    "tags": []
   },
   "outputs": [
    {
     "data": {
      "image/png": "[encoded data removed]",
      "text/plain": [
       "<Figure size 1000x500 with 1 Axes>"
      ]
     },
     "metadata": {},
     "output_type": "display_data"
    }
   ],
   "source": [
    "y = more_hp_scores_df[more_hp_scores_df[\"Penalty\"] == \"l2\"]['Test Accuracy'].values\n",
    "x = more_hp_scores_df[more_hp_scores_df[\"Penalty\"] == \"l2\"]['C Value'].values\n",
    "\n",
    "poly = PolynomialFeatures(degree=4, include_bias=False)\n",
    "poly_features = poly.fit_transform(x.reshape(-1, 1))\n",
    "poly_reg_model = LinearRegression()\n",
    "poly_reg_model.fit(poly_features, y)\n",
    "y_predicted = poly_reg_model.predict(poly_features)\n",
    "\n",
    "plt.figure(figsize=(10,5))\n",
    "plt.scatter(x,y, c='grey', label='Actual Value')\n",
    "plt.plot(x, y_predicted, c=\"crimson\", label='Predicted Value')\n",
    "plt.xlim(0, 15.1)\n",
    "plt.title('Polynomial Regression of Test Accuracy by C Value (L2 Penalty) for Logistic Regression Classifier')\n",
    "plt.xlabel(\"Value for 'C' Hyper-parameter\")\n",
    "plt.ylabel('Test Accuracy Score')\n",
    "plt.legend()\n",
    "plt.show()"
   ]
  },
  {
   "cell_type": "code",
   "execution_count": 34,
   "metadata": {
    "tags": []
   },
   "outputs": [
    {
     "name": "stdout",
     "output_type": "stream",
     "text": [
      "The best hyper-parameters for Logistic Regression are: \n",
      " solver:'liblinear', \n",
      " C: 4.605263157894736, \n",
      " penalty: l2. \n",
      "Achieving accuracy of 83.72%\n"
     ]
    }
   ],
   "source": [
    "best = more_hp_scores_df['Test Accuracy'].argmax()\n",
    "\n",
    "best_solver = 'liblinear'\n",
    "best_c = more_hp_scores_df['C Value'].iloc[best]\n",
    "best_penalty = more_hp_scores_df['Penalty'].iloc[best]\n",
    "best_accuracy = more_hp_scores_df['Test Accuracy'].iloc[best]\n",
    "\n",
    "print(f\"The best hyper-parameters for Logistic Regression are: \\n solver:'{best_solver}', \\n C: {best_c}, \\n penalty: {best_penalty}. \\nAchieving accuracy of {best_accuracy:.2%}\")"
   ]
  },
  {
   "cell_type": "markdown",
   "metadata": {
    "id": "rXw5cU2whT3z",
    "tags": []
   },
   "source": [
    "## Results"
   ]
  },
  {
   "cell_type": "markdown",
   "metadata": {},
   "source": [
    "From my experiments I have determined that the most appropriate model is `LogisticRegression(solver= 'liblinear', C=4.605263157894736)` (the default penalty is 'l2' so this does not need to be specified), using `TfidfVectorizer(min_df=2)` and a reduced feature set of 10,443 features. When applied to the test data, the classification accuracy is 83.72%."
   ]
  },
  {
   "cell_type": "code",
   "execution_count": 35,
   "metadata": {
    "tags": []
   },
   "outputs": [],
   "source": [
    "# Creates a Logisitic Regression object with proposed hyperparameters\n",
    "logistic_regression_tuned = LogisticRegression(C=best_c, penalty=best_penalty, solver=best_solver)"
   ]
  },
  {
   "cell_type": "code",
   "execution_count": 36,
   "metadata": {
    "tags": []
   },
   "outputs": [],
   "source": [
    "# Trains proposed Logistic Regression classifier on reduced feature set\n",
    "classifier = logistic_regression_tuned.fit(X=trainP, y=train_y)"
   ]
  },
  {
   "cell_type": "markdown",
   "metadata": {},
   "source": [
    "The classification report for the proposed model is printed below. "
   ]
  },
  {
   "cell_type": "code",
   "execution_count": 37,
   "metadata": {
    "colab": {
     "base_uri": "https://localhost:8080/"
    },
    "id": "QXqHBC02XUbN",
    "outputId": "dfebdd43-1018-46d0-b47e-5360c16b9d94",
    "tags": []
   },
   "outputs": [
    {
     "name": "stdout",
     "output_type": "stream",
     "text": [
      "Classification report for LogisticRegression(C=4.605263157894736, solver='liblinear'): \n",
      "\n",
      "              precision    recall  f1-score   support\n",
      "\n",
      "           0       0.86      0.80      0.83       428\n",
      "           1       0.82      0.88      0.85       444\n",
      "\n",
      "    accuracy                           0.84       872\n",
      "   macro avg       0.84      0.84      0.84       872\n",
      "weighted avg       0.84      0.84      0.84       872\n",
      "\n"
     ]
    }
   ],
   "source": [
    "predictions = classifier.predict(testP)\n",
    "report = classification_report(test['label'], predictions)\n",
    "print('Classification report for {}: \\n'.format(classifier))\n",
    "print(report)"
   ]
  },
  {
   "cell_type": "markdown",
   "metadata": {},
   "source": [
    "In order to fully evaluate the effectiveness of a model, more than just accuracy must be considered.\n",
    "\n",
    "The proposed model displays both high precision and recall, where high precision suggests low false positive rate, and high recall suggests a low false negative rate. The confusion matrix shows the number of true negatives, false negatives, false positives and true positives. Via the heatmap, we can see that the number of true positives and true negatives is high."
   ]
  },
  {
   "cell_type": "code",
   "execution_count": 38,
   "metadata": {
    "colab": {
     "base_uri": "https://localhost:8080/",
     "height": 472
    },
    "id": "QKwqpnN2V5YC",
    "outputId": "069f63c4-1b28-4ee0-863d-9ac1b8998c94",
    "tags": []
   },
   "outputs": [
    {
     "name": "stdout",
     "output_type": "stream",
     "text": [
      "AUC-ROC score: 0.9802\n"
     ]
    },
    {
     "data": {
      "image/png": "[encoded data removed]",
      "text/plain": [
       "<Figure size 1200x500 with 2 Axes>"
      ]
     },
     "metadata": {},
     "output_type": "display_data"
    }
   ],
   "source": [
    "fig, (ax1, ax2) = plt.subplots(1, 2, figsize=(12, 5))\n",
    "\n",
    "# Confusion matrix\n",
    "C = confusion_matrix(test_y, predictions)\n",
    "sns.heatmap(C.T,\n",
    "            square=True,\n",
    "            annot=True,\n",
    "            fmt='d',\n",
    "            cmap='crest',\n",
    "            cbar=False,\n",
    "            ax=ax1)\n",
    "\n",
    "ax1.set(title='Confusion Matrix', xlabel='True label', ylabel='Predicted label');\n",
    "\n",
    "# PR Curve\n",
    "train_y_prob = logistic_regression_tuned.predict_proba(trainP)[:,1]\n",
    "fpr, tpr, threshold = roc_curve(train_y, train_y_prob)\n",
    "prd = RocCurveDisplay(fpr=fpr, tpr=tpr)\n",
    "ax2.set(title='ROC Curve')\n",
    "prd.plot(ax=ax2)\n",
    "print(f\"AUC-ROC score: {roc_auc_score(train_y, train_y_prob):.4f}\")"
   ]
  },
  {
   "cell_type": "markdown",
   "metadata": {},
   "source": [
    "The Receiver Operating Characteristic (ROC) graph shows the effect of changing the classification threshold on the TPR and FPR. From this, we can calculate the Area Under the Curve (AUC) score, for which an ideal classifier would score 1 (corresponding to a graph from (0,0) -> (0,1) -> (1,1)). Note that I chose ROC rather than Precision-Recall since the latter is generally only preferred when the data is imbalanced."
   ]
  },
  {
   "cell_type": "markdown",
   "metadata": {
    "id": "_Q5MH3E3giks",
    "tags": []
   },
   "source": [
    "### Conclusion"
   ]
  },
  {
   "cell_type": "markdown",
   "metadata": {},
   "source": [
    "Positioned with respect to the leader-board for SST-2 (available at: https://gluebenchmark.com/leaderboard/), my model is significantly less accurate that the highest current scorer for SST-2, 'Vega V1', which achieves 97.9% accuracy. However, this is likely due to the more simplistic nature of the techniques used in my proposed Logistic Regression classifier, as most state-of-the-art models appear to use more advanced machine learning architectures such as transformers.  "
   ]
  },
  {
   "cell_type": "markdown",
   "metadata": {
    "id": "XI7R8Ixggov5"
   },
   "source": [
    "In the following cells, I have generated both the train and test accuracy for:\n",
    "- The original model using Logistic Regression and Count Vectorizer, which I consider my baseline\n",
    "- Logistic Regression and TF-IDF Vectorizer\n",
    "- Logistic Regression and TF-IDF Vectorizer (LR,TF-IDF) on reduced set of features\n",
    "- LR,TF-IDF on reduced set of features with added hyper-parameter tuning \n",
    "\n",
    "From the bar chart below you can see the improvement in test accuracy with each amendment to the model. "
   ]
  },
  {
   "cell_type": "code",
   "execution_count": 39,
   "metadata": {
    "tags": []
   },
   "outputs": [],
   "source": [
    "models =    {'LR and Count Vectorizer': LogisticRegression(max_iter=10000).fit(X=create_bag(vectorizers[0], train), y=train_y),\n",
    "             'LR and TF-IDF Vectorizer': LogisticRegression(max_iter=10000).fit(X=train_X, y=train_y)}\n",
    "\n",
    "models_fs = {'+ Feature Selection': LogisticRegression(max_iter=10000).fit(X=trainP, y=train_y),\n",
    "             '+ Hyperparameter Tuning': classifier}              "
   ]
  },
  {
   "cell_type": "code",
   "execution_count": 40,
   "metadata": {
    "tags": []
   },
   "outputs": [
    {
     "data": {
      "text/html": [
       "<div>\n",
       "<style scoped>\n",
       "    .dataframe tbody tr th:only-of-type {\n",
       "        vertical-align: middle;\n",
       "    }\n",
       "\n",
       "    .dataframe tbody tr th {\n",
       "        vertical-align: top;\n",
       "    }\n",
       "\n",
       "    .dataframe thead th {\n",
       "        text-align: right;\n",
       "    }\n",
       "</style>\n",
       "<table border=\"1\" class=\"dataframe\">\n",
       "  <thead>\n",
       "    <tr style=\"text-align: right;\">\n",
       "      <th></th>\n",
       "      <th>Model</th>\n",
       "      <th>Train Accuracy</th>\n",
       "      <th>Test Accuracy</th>\n",
       "    </tr>\n",
       "  </thead>\n",
       "  <tbody>\n",
       "    <tr>\n",
       "      <th>0</th>\n",
       "      <td>Vega V1</td>\n",
       "      <td>NaN</td>\n",
       "      <td>0.979000</td>\n",
       "    </tr>\n",
       "    <tr>\n",
       "      <th>1</th>\n",
       "      <td>LR and Count Vectorizer</td>\n",
       "      <td>0.929279</td>\n",
       "      <td>0.792431</td>\n",
       "    </tr>\n",
       "    <tr>\n",
       "      <th>2</th>\n",
       "      <td>LR and TF-IDF Vectorizer</td>\n",
       "      <td>0.922864</td>\n",
       "      <td>0.825688</td>\n",
       "    </tr>\n",
       "    <tr>\n",
       "      <th>3</th>\n",
       "      <td>+ Feature Selection</td>\n",
       "      <td>0.913332</td>\n",
       "      <td>0.825688</td>\n",
       "    </tr>\n",
       "    <tr>\n",
       "      <th>4</th>\n",
       "      <td>+ Hyperparameter Tuning</td>\n",
       "      <td>0.929873</td>\n",
       "      <td>0.837156</td>\n",
       "    </tr>\n",
       "  </tbody>\n",
       "</table>\n",
       "</div>"
      ],
      "text/plain": [
       "                      Model  Train Accuracy  Test Accuracy\n",
       "0                   Vega V1             NaN       0.979000\n",
       "1   LR and Count Vectorizer        0.929279       0.792431\n",
       "2  LR and TF-IDF Vectorizer        0.922864       0.825688\n",
       "3       + Feature Selection        0.913332       0.825688\n",
       "4   + Hyperparameter Tuning        0.929873       0.837156"
      ]
     },
     "execution_count": 40,
     "metadata": {},
     "output_type": "execute_result"
    }
   ],
   "source": [
    "results = [('Vega V1', None, 0.979)]\n",
    "\n",
    "for name, model in models.items():\n",
    "    train_accuracy = model.score(train_X, train_y)\n",
    "    test_accuracy = model.score(test_X, test_y)\n",
    "    results.append((name, train_accuracy, test_accuracy))\n",
    "for name, model in models_fs.items():\n",
    "    train_accuracy = model.score(trainP, train_y)\n",
    "    test_accuracy = model.score(testP, test_y)\n",
    "    results.append((name, train_accuracy, test_accuracy))\n",
    "    \n",
    "results_df = pd.DataFrame(results, columns=['Model', 'Train Accuracy', 'Test Accuracy'])\n",
    "results_df"
   ]
  },
  {
   "cell_type": "code",
   "execution_count": 41,
   "metadata": {
    "tags": []
   },
   "outputs": [
    {
     "data": {
      "text/plain": [
       "<matplotlib.legend.Legend at 0x7f2c0043ec20>"
      ]
     },
     "execution_count": 41,
     "metadata": {},
     "output_type": "execute_result"
    },
    {
     "data": {
      "image/png": "[encoded data removed]",
      "text/plain": [
       "<Figure size 1000x500 with 1 Axes>"
      ]
     },
     "metadata": {},
     "output_type": "display_data"
    }
   ],
   "source": [
    "x=results_df['Model'].values\n",
    "y=results_df['Train Accuracy'].values\n",
    "z=results_df['Test Accuracy'].values\n",
    "\n",
    "plt.figure(figsize=(10, 5))\n",
    "barwidth = 0.25\n",
    "# Again, manually calculate x-locations for each (train, test) result pair\n",
    "X_axis = np.arange(len(results_df['Model']))\n",
    "plt.bar(X_axis-0.2, y, label='Train Accuracy', width=0.4, color='grey')\n",
    "plt.bar(X_axis+0.2, z, label='Test Accuracy', width=0.4, color='teal')\n",
    "plt.xlabel('Model')\n",
    "plt.ylabel('Accuracy')\n",
    "plt.title('Model Accuracies for Test and Training Data')\n",
    "plt.xticks(X_axis, results_df['Model'], rotation=45)\n",
    "plt.ylim([0.75, 1])\n",
    "plt.legend()"
   ]
  },
  {
   "cell_type": "markdown",
   "metadata": {},
   "source": [
    "The final proposed model has a train accuracy of 92.99% and a test accuracy of 83.72%. Whilst this is markedly lower than the 'Vega V1' accuracy of 97.9%, my results show an improvement from my baseline 79%. Using TF-IDF Vectorizer increases test accuracy to 82.56% and feature reduction improves processing time, allowing for more thorough hyperparameter testing. Finally, hyperparameter tuning increases the model to 83.72% with only a small reduction in train accuracy. "
   ]
  },
  {
   "cell_type": "markdown",
   "metadata": {
    "id": "EJiEwNa4gl0p"
   },
   "source": [
    "## Ethical Implications"
   ]
  },
  {
   "cell_type": "markdown",
   "metadata": {
    "id": "ERHNBsbrg31-"
   },
   "source": [
    "Sentiment analysis is useful for businesses during marketing analytics as well as recommender systems. Furthermore, sentiment analysis can improve Human-Computer Interaction by helping computers understand both natural language as well as positive versus negative interactions.\n",
    "\n",
    "However, some consider sentiment analysis an invasion of ones privacy. Sentiment analysis often requires a large amount of data, which can include personal information about individuals, in the case of SST-2 those who have written the movie reviews. Moreover, as sentiment analysis models focus more on context, models make use of even more data to gather contextual knowledge about the utterer of the sentence during the classification process, which contributes to the feeling of 'mass surveillance' on behalf of companies and organisations, or in extreme cases - authoritarian governments. This is especially pertinant since many individuals are not aware that their data is being analysed. Thus it is important to ensure that private information is not used for sentiment analysis without consent. "
   ]
  },
  {
   "cell_type": "markdown",
   "metadata": {
    "id": "IRTYQXv5TnXU"
   },
   "source": [
    "## Reference List:"
   ]
  },
  {
   "cell_type": "markdown",
   "metadata": {},
   "source": [
    "Gusarova, Maria (2022) Logistic Regression Model Tuning. Available at: https://medium.com/@data.science.enthusiast/logistic-regression-tune-hyperparameters-python-code-fintech-does-it-bring-any-value-619e172565e6"
   ]
  },
  {
   "cell_type": "markdown",
   "metadata": {
    "tags": []
   },
   "source": [
    "Matplotlib 3.7.1 documentation (2023) Creating multiple subplots using plt.subplots. Available at: https://matplotlib.org/stable/gallery/subplots_axes_and_figures/subplots_demo.html "
   ]
  },
  {
   "cell_type": "markdown",
   "metadata": {
    "id": "BKhxFTCVTpCK"
   },
   "source": [
    "scikit-learn 1.2.2 documentation (2023). Available at: https://scikit-learn.org/stable/"
   ]
  },
  {
   "cell_type": "markdown",
   "metadata": {},
   "source": [
    "Mohammad, Saif. (2022). Ethics Sheet for Automatic Emotion Recognition and Sentiment Analysis. Available at: https://direct.mit.edu/coli/article/48/2/239/109904/Ethics-Sheet-for-Automatic-Emotion-Recognition-and"
   ]
  }
 ],
 "metadata": {
  "colab": {
   "collapsed_sections": [
    "Xd3JIy-NeosL",
    "_Q5MH3E3giks",
    "EJiEwNa4gl0p"
   ],
   "provenance": []
  },
  "kernelspec": {
   "display_name": "python-minimal kernel",
   "language": "python",
   "name": "python-minimal"
  },
  "language_info": {
   "codemirror_mode": {
    "name": "ipython",
    "version": 3
   },
   "file_extension": ".py",
   "mimetype": "text/x-python",
   "name": "python",
   "nbconvert_exporter": "python",
   "pygments_lexer": "ipython3",
   "version": "3.10.9"
  }
 },
 "nbformat": 4,
 "nbformat_minor": 4
}
